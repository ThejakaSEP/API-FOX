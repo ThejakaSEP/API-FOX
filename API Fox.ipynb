{
 "cells": [
  {
   "cell_type": "code",
   "execution_count": 1,
   "id": "1dfe4bbf",
   "metadata": {},
   "outputs": [],
   "source": [
    "import requests"
   ]
  },
  {
   "cell_type": "code",
   "execution_count": 2,
   "id": "c0d150c7",
   "metadata": {},
   "outputs": [],
   "source": [
    "response = requests.get('https://randomfox.ca/floof')"
   ]
  },
  {
   "cell_type": "code",
   "execution_count": 3,
   "id": "7d3d7558",
   "metadata": {},
   "outputs": [
    {
     "name": "stdout",
     "output_type": "stream",
     "text": [
      "200\n"
     ]
    }
   ],
   "source": [
    "print(response.status_code)"
   ]
  },
  {
   "cell_type": "code",
   "execution_count": 4,
   "id": "fe5da1e9",
   "metadata": {},
   "outputs": [
    {
     "name": "stdout",
     "output_type": "stream",
     "text": [
      "{\"image\":\"https:\\/\\/randomfox.ca\\/images\\/53.jpg\",\"link\":\"https:\\/\\/randomfox.ca\\/?i=53\"}\n"
     ]
    }
   ],
   "source": [
    "print(response.text)"
   ]
  },
  {
   "cell_type": "code",
   "execution_count": 6,
   "id": "0886acac",
   "metadata": {},
   "outputs": [
    {
     "name": "stdout",
     "output_type": "stream",
     "text": [
      "{'image': 'https://randomfox.ca/images/53.jpg', 'link': 'https://randomfox.ca/?i=53'}\n"
     ]
    }
   ],
   "source": [
    "print(response.json())"
   ]
  },
  {
   "cell_type": "code",
   "execution_count": 7,
   "id": "2962ea22",
   "metadata": {},
   "outputs": [],
   "source": [
    "fox = response.json()"
   ]
  },
  {
   "cell_type": "code",
   "execution_count": 8,
   "id": "7d977636",
   "metadata": {},
   "outputs": [
    {
     "name": "stdout",
     "output_type": "stream",
     "text": [
      "https://randomfox.ca/images/53.jpg\n"
     ]
    }
   ],
   "source": [
    "print(fox['image'])"
   ]
  },
  {
   "cell_type": "code",
   "execution_count": null,
   "id": "0d608894",
   "metadata": {},
   "outputs": [],
   "source": []
  }
 ],
 "metadata": {
  "kernelspec": {
   "display_name": "Python 3",
   "language": "python",
   "name": "python3"
  },
  "language_info": {
   "codemirror_mode": {
    "name": "ipython",
    "version": 3
   },
   "file_extension": ".py",
   "mimetype": "text/x-python",
   "name": "python",
   "nbconvert_exporter": "python",
   "pygments_lexer": "ipython3",
   "version": "3.8.8"
  }
 },
 "nbformat": 4,
 "nbformat_minor": 5
}
